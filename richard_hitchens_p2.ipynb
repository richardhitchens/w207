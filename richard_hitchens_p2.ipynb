{
 "cells": [
  {
   "cell_type": "markdown",
   "metadata": {},
   "source": [
    "# Project 2: Topic Classification"
   ]
  },
  {
   "cell_type": "markdown",
   "metadata": {},
   "source": [
    "In this project, you'll work with text data from newsgroup postings on a variety of topics. You'll train classifiers to distinguish between the topics based on the text of the posts. Whereas with digit classification, the input is relatively dense: a 28x28 matrix of pixels, many of which are non-zero, here we'll represent each document with a \"bag-of-words\" model. As you'll see, this makes the feature representation quite sparse -- only a few words of the total vocabulary are active in any given document. The bag-of-words assumption here is that the label depends only on the words; their order is not important.\n",
    "\n",
    "The SK-learn documentation on feature extraction will prove useful:\n",
    "http://scikit-learn.org/stable/modules/feature_extraction.html\n",
    "\n",
    "Each problem can be addressed succinctly with the included packages -- please don't add any more. Grading will be based on writing clean, commented code, along with a few short answers.\n",
    "\n",
    "As always, you're welcome to work on the project in groups and discuss ideas on the course wall, but please prepare your own write-up and write your own code."
   ]
  },
  {
   "cell_type": "code",
   "execution_count": 1,
   "metadata": {
    "collapsed": false
   },
   "outputs": [
    {
     "name": "stderr",
     "output_type": "stream",
     "text": [
      "/Applications/anaconda/lib/python2.7/site-packages/sklearn/cross_validation.py:44: DeprecationWarning: This module was deprecated in version 0.18 in favor of the model_selection module into which all the refactored classes and functions are moved. Also note that the interface of the new CV iterators are different from that of this module. This module will be removed in 0.20.\n",
      "  \"This module will be removed in 0.20.\", DeprecationWarning)\n",
      "/Applications/anaconda/lib/python2.7/site-packages/sklearn/grid_search.py:43: DeprecationWarning: This module was deprecated in version 0.18 in favor of the model_selection module into which all the refactored classes and functions are moved. This module will be removed in 0.20.\n",
      "  DeprecationWarning)\n"
     ]
    }
   ],
   "source": [
    "# This tells matplotlib not to try opening a new window for each plot.\n",
    "%matplotlib inline\n",
    "\n",
    "# General libraries.\n",
    "import re\n",
    "import numpy as np\n",
    "import pandas as pd\n",
    "import matplotlib.pyplot as plt\n",
    "\n",
    "# SK-learn libraries for learning.\n",
    "from sklearn.pipeline import Pipeline\n",
    "from sklearn.neighbors import KNeighborsClassifier\n",
    "from sklearn.linear_model import LogisticRegression\n",
    "from sklearn.naive_bayes import BernoulliNB\n",
    "from sklearn.naive_bayes import MultinomialNB\n",
    "from sklearn.grid_search import GridSearchCV\n",
    "\n",
    "# SK-learn libraries for evaluation.\n",
    "from sklearn.metrics import confusion_matrix\n",
    "from sklearn import metrics\n",
    "from sklearn.metrics import classification_report\n",
    "\n",
    "# SK-learn library for importing the newsgroup data.\n",
    "from sklearn.datasets import fetch_20newsgroups\n",
    "\n",
    "# SK-learn libraries for feature extraction from text.\n",
    "from sklearn.feature_extraction.text import *"
   ]
  },
  {
   "cell_type": "markdown",
   "metadata": {},
   "source": [
    "Load the data, stripping out metadata so that we learn classifiers that only use textual features. By default, newsgroups data is split into train and test sets. We further split the test so we have a dev set. Note that we specify 4 categories to use for this project. If you remove the categories argument from the fetch function, you'll get all 20 categories."
   ]
  },
  {
   "cell_type": "code",
   "execution_count": 2,
   "metadata": {
    "collapsed": false
   },
   "outputs": [
    {
     "name": "stdout",
     "output_type": "stream",
     "text": [
      "training label shape: (2034,)\n",
      "test label shape: (677,)\n",
      "dev label shape: (676,)\n",
      "labels names: ['alt.atheism', 'comp.graphics', 'sci.space', 'talk.religion.misc']\n"
     ]
    }
   ],
   "source": [
    "categories = ['alt.atheism', 'talk.religion.misc', 'comp.graphics', 'sci.space']\n",
    "newsgroups_train = fetch_20newsgroups(subset='train',\n",
    "                                      remove=('headers', 'footers', 'quotes'),\n",
    "                                      categories=categories)\n",
    "newsgroups_test = fetch_20newsgroups(subset='test',\n",
    "                                     remove=('headers', 'footers', 'quotes'),\n",
    "                                     categories=categories)\n",
    "\n",
    "num_test = len(newsgroups_test.target)\n",
    "test_data, test_labels = newsgroups_test.data[num_test/2:], newsgroups_test.target[num_test/2:]\n",
    "dev_data, dev_labels = newsgroups_test.data[:num_test/2], newsgroups_test.target[:num_test/2]\n",
    "train_data, train_labels = newsgroups_train.data, newsgroups_train.target\n",
    "\n",
    "print 'training label shape:', train_labels.shape\n",
    "print 'test label shape:', test_labels.shape\n",
    "print 'dev label shape:', dev_labels.shape\n",
    "print 'labels names:', newsgroups_train.target_names"
   ]
  },
  {
   "cell_type": "markdown",
   "metadata": {},
   "source": [
    "#### Basic Data Analysis"
   ]
  },
  {
   "cell_type": "code",
   "execution_count": 3,
   "metadata": {
    "collapsed": false
   },
   "outputs": [
    {
     "name": "stdout",
     "output_type": "stream",
     "text": [
      "<type 'list'>\n",
      "<type 'numpy.ndarray'>\n"
     ]
    }
   ],
   "source": [
    "print type(train_data)\n",
    "print type(train_labels)"
   ]
  },
  {
   "cell_type": "code",
   "execution_count": 4,
   "metadata": {
    "collapsed": false
   },
   "outputs": [
    {
     "data": {
      "text/plain": [
       "[u\"Hi,\\n\\nI've noticed that if you only save a model (with all your mapping planes\\npositioned carefully) to a .3DS file that when you reload it after restarting\\n3DS, they are given a default position and orientation.  But if you save\\nto a .PRJ file their positions/orientation are preserved.  Does anyone\\nknow why this information is not stored in the .3DS file?  Nothing is\\nexplicitly said in the manual about saving texture rules in the .PRJ file. \\nI'd like to be able to read the texture rule information, does anyone have \\nthe format for the .PRJ file?\\n\\nIs the .CEL file format available from somewhere?\\n\\nRych\",\n",
       " u'\\n\\nSeems to be, barring evidence to the contrary, that Koresh was simply\\nanother deranged fanatic who thought it neccessary to take a whole bunch of\\nfolks with him, children and all, to satisfy his delusional mania. Jim\\nJones, circa 1993.\\n\\n\\nNope - fruitcakes like Koresh have been demonstrating such evil corruption\\nfor centuries.',\n",
       " u\"\\n >In article <1993Apr19.020359.26996@sq.sq.com>, msb@sq.sq.com (Mark Brader) \\n\\nMB>                                                             So the\\nMB> 1970 figure seems unlikely to actually be anything but a perijove.\\n\\nJG>Sorry, _perijoves_...I'm not used to talking this language.\\n\\nCouldn't we just say periapsis or apoapsis?\\n\\n \",\n",
       " u'I have a request for those who would like to see Charley Wingate\\nrespond to the \"Charley Challenges\" (and judging from my e-mail, there\\nappear to be quite a few of you.)  \\n\\nIt is clear that Mr. Wingate intends to continue to post tangential or\\nunrelated articles while ingoring the Challenges themselves.  Between\\nthe last two re-postings of the Challenges, I noted perhaps a dozen or\\nmore posts by Mr. Wingate, none of which answered a single Challenge.  \\n\\nIt seems unmistakable to me that Mr. Wingate hopes that the questions\\nwill just go away, and he is doing his level best to change the\\nsubject.  Given that this seems a rather common net.theist tactic, I\\nwould like to suggest that we impress upon him our desire for answers,\\nin the following manner:\\n\\n1. Ignore any future articles by Mr. Wingate that do not address the\\nChallenges, until he answers them or explictly announces that he\\nrefuses to do so.\\n\\n--or--\\n\\n2. If you must respond to one of his articles, include within it\\nsomething similar to the following:\\n\\n    \"Please answer the questions posed to you in the Charley Challenges.\"\\n\\nReally, I\\'m not looking to humiliate anyone here, I just want some\\nhonest answers.  You wouldn\\'t think that honesty would be too much to\\nask from a devout Christian, would you?  \\n\\nNevermind, that was a rhetorical question.',\n",
       " u'AW&ST  had a brief blurb on a Manned Lunar Exploration confernce\\nMay 7th  at Crystal City Virginia, under the auspices of AIAA.\\n\\nDoes anyone know more about this?  How much, to attend????\\n\\nAnyone want to go?']"
      ]
     },
     "execution_count": 4,
     "metadata": {},
     "output_type": "execute_result"
    }
   ],
   "source": [
    "train_data[:5]"
   ]
  },
  {
   "cell_type": "code",
   "execution_count": 5,
   "metadata": {
    "collapsed": false
   },
   "outputs": [
    {
     "data": {
      "text/plain": [
       "array([1, 3, 2, 0, 2])"
      ]
     },
     "execution_count": 5,
     "metadata": {},
     "output_type": "execute_result"
    }
   ],
   "source": [
    "train_labels[0:5]"
   ]
  },
  {
   "cell_type": "markdown",
   "metadata": {},
   "source": [
    "#### Project"
   ]
  },
  {
   "cell_type": "markdown",
   "metadata": {},
   "source": [
    "(1) For each of the first 5 training examples, print the text of the message along with the label."
   ]
  },
  {
   "cell_type": "code",
   "execution_count": 6,
   "metadata": {
    "collapsed": false
   },
   "outputs": [
    {
     "name": "stdout",
     "output_type": "stream",
     "text": [
      "====================================================================================================\n",
      "Example: 1\n",
      "----------------------------------------------------------------------------------------------------\n",
      "Text:\n",
      "Hi,\n",
      "\n",
      "I've noticed that if you only save a model (with all your mapping planes\n",
      "positioned carefully) to a .3DS file that when you reload it after restarting\n",
      "3DS, they are given a default position and orientation.  But if you save\n",
      "to a .PRJ file their positions/orientation are preserved.  Does anyone\n",
      "know why this information is not stored in the .3DS file?  Nothing is\n",
      "explicitly said in the manual about saving texture rules in the .PRJ file. \n",
      "I'd like to be able to read the texture rule information, does anyone have \n",
      "the format for the .PRJ file?\n",
      "\n",
      "Is the .CEL file format available from somewhere?\n",
      "\n",
      "Rych\n",
      "----------------------------------------------------------------------------------------------------\n",
      "Label:  1 comp.graphics\n",
      "====================================================================================================\n",
      "\n",
      "====================================================================================================\n",
      "Example: 2\n",
      "----------------------------------------------------------------------------------------------------\n",
      "Text:\n",
      "\n",
      "\n",
      "Seems to be, barring evidence to the contrary, that Koresh was simply\n",
      "another deranged fanatic who thought it neccessary to take a whole bunch of\n",
      "folks with him, children and all, to satisfy his delusional mania. Jim\n",
      "Jones, circa 1993.\n",
      "\n",
      "\n",
      "Nope - fruitcakes like Koresh have been demonstrating such evil corruption\n",
      "for centuries.\n",
      "----------------------------------------------------------------------------------------------------\n",
      "Label:  3 talk.religion.misc\n",
      "====================================================================================================\n",
      "\n",
      "====================================================================================================\n",
      "Example: 3\n",
      "----------------------------------------------------------------------------------------------------\n",
      "Text:\n",
      "\n",
      " >In article <1993Apr19.020359.26996@sq.sq.com>, msb@sq.sq.com (Mark Brader) \n",
      "\n",
      "MB>                                                             So the\n",
      "MB> 1970 figure seems unlikely to actually be anything but a perijove.\n",
      "\n",
      "JG>Sorry, _perijoves_...I'm not used to talking this language.\n",
      "\n",
      "Couldn't we just say periapsis or apoapsis?\n",
      "\n",
      " \n",
      "----------------------------------------------------------------------------------------------------\n",
      "Label:  2 sci.space\n",
      "====================================================================================================\n",
      "\n",
      "====================================================================================================\n",
      "Example: 4\n",
      "----------------------------------------------------------------------------------------------------\n",
      "Text:\n",
      "I have a request for those who would like to see Charley Wingate\n",
      "respond to the \"Charley Challenges\" (and judging from my e-mail, there\n",
      "appear to be quite a few of you.)  \n",
      "\n",
      "It is clear that Mr. Wingate intends to continue to post tangential or\n",
      "unrelated articles while ingoring the Challenges themselves.  Between\n",
      "the last two re-postings of the Challenges, I noted perhaps a dozen or\n",
      "more posts by Mr. Wingate, none of which answered a single Challenge.  \n",
      "\n",
      "It seems unmistakable to me that Mr. Wingate hopes that the questions\n",
      "will just go away, and he is doing his level best to change the\n",
      "subject.  Given that this seems a rather common net.theist tactic, I\n",
      "would like to suggest that we impress upon him our desire for answers,\n",
      "in the following manner:\n",
      "\n",
      "1. Ignore any future articles by Mr. Wingate that do not address the\n",
      "Challenges, until he answers them or explictly announces that he\n",
      "refuses to do so.\n",
      "\n",
      "--or--\n",
      "\n",
      "2. If you must respond to one of his articles, include within it\n",
      "something similar to the following:\n",
      "\n",
      "    \"Please answer the questions posed to you in the Charley Challenges.\"\n",
      "\n",
      "Really, I'm not looking to humiliate anyone here, I just want some\n",
      "honest answers.  You wouldn't think that honesty would be too much to\n",
      "ask from a devout Christian, would you?  \n",
      "\n",
      "Nevermind, that was a rhetorical question.\n",
      "----------------------------------------------------------------------------------------------------\n",
      "Label:  0 alt.atheism\n",
      "====================================================================================================\n",
      "\n",
      "====================================================================================================\n",
      "Example: 5\n",
      "----------------------------------------------------------------------------------------------------\n",
      "Text:\n",
      "AW&ST  had a brief blurb on a Manned Lunar Exploration confernce\n",
      "May 7th  at Crystal City Virginia, under the auspices of AIAA.\n",
      "\n",
      "Does anyone know more about this?  How much, to attend????\n",
      "\n",
      "Anyone want to go?\n",
      "----------------------------------------------------------------------------------------------------\n",
      "Label:  2 sci.space\n",
      "====================================================================================================\n",
      "\n"
     ]
    }
   ],
   "source": [
    "def P1(num_examples=5):\n",
    "    # print the first 5 training examples with the label number and text\n",
    "    for i in range(num_examples):\n",
    "        print \"=\"*100\n",
    "        print \"Example:\", i+1\n",
    "        print \"-\"*100\n",
    "        print \"Text:\"\n",
    "        print train_data[i]\n",
    "        print \"-\"*100\n",
    "        print \"Label: \", train_labels[i], newsgroups_train.target_names[train_labels[i]]\n",
    "        print \"=\"*100\n",
    "        print \"\"\n",
    "    \n",
    "P1()"
   ]
  },
  {
   "cell_type": "markdown",
   "metadata": {},
   "source": [
    "(2) Use CountVectorizer to turn the raw training text into feature vectors. You should use the fit_transform function, which makes 2 passes through the data: first it computes the vocabulary (\"fit\"), second it converts the raw text into feature vectors using the vocabulary (\"transform\").\n",
    "\n",
    "The vectorizer has a lot of options. To get familiar with some of them, write code to answer these questions:\n",
    "\n",
    "a. The output of the transform (also of fit_transform) is a sparse matrix: http://docs.scipy.org/doc/scipy-0.14.0/reference/generated/scipy.sparse.csr_matrix.html. What is the size of the vocabulary? What is the average number of non-zero features per example? What fraction of the entries in the matrix are non-zero? Hint: use \"nnz\" and \"shape\" attributes.\n",
    "\n",
    "b. What are the 0th and last feature strings (in alphabetical order)? Hint: use the vectorizer's get_feature_names function.\n",
    "\n",
    "c. Specify your own vocabulary with 4 words: [\"atheism\", \"graphics\", \"space\", \"religion\"]. Confirm the training vectors are appropriately shaped. Now what's the average number of non-zero features per example?\n",
    "\n",
    "d. Instead of extracting unigram word features, use \"analyzer\" and \"ngram_range\" to extract bigram and trigram character features. What size vocabulary does this yield?\n",
    "\n",
    "e. Use the \"min_df\" argument to prune words that appear in fewer than 10 documents. What size vocabulary does this yield?\n",
    "\n",
    "f. Using the standard CountVectorizer, what fraction of the words in the dev data are missing from the vocabulary? Hint: build a vocabulary for both train and dev and look at the size of the difference."
   ]
  },
  {
   "cell_type": "markdown",
   "metadata": {},
   "source": [
    "#### Part (a)"
   ]
  },
  {
   "cell_type": "code",
   "execution_count": 7,
   "metadata": {
    "collapsed": false
   },
   "outputs": [
    {
     "name": "stdout",
     "output_type": "stream",
     "text": [
      "CountVectorizer output type: <class 'scipy.sparse.csr.csr_matrix'>\n",
      "CountVectorizer output shape: (2034, 26879)\n",
      "Confirming two vocabularies are the same: True\n",
      "Confirming the three vocabulary sizes are the same: True\n",
      "\n",
      "Answers to the questions\n",
      "The size of the vocabulary is: 26879\n",
      "The average number of non-zero features per example is: 96.7\n",
      "The fraction of non-zero matrix entries is: 0.4%\n"
     ]
    }
   ],
   "source": [
    "# Fit and transform the train_data using the CountVectorizer\n",
    "vec = CountVectorizer()\n",
    "data = vec.fit_transform(train_data)\n",
    "# Confirm the output of the fit_transform function is a sparse matrix\n",
    "print \"CountVectorizer output type:\", type(data)\n",
    "print \"CountVectorizer output shape:\", data.shape\n",
    "\n",
    "# Two ways of getting the vocabulary from the fit model\n",
    "train_vocab = sorted(vec.vocabulary_.keys())\n",
    "train_vocab1 = vec.get_feature_names()\n",
    "\n",
    "# Confirm that the two methods produce the same results\n",
    "print \"Confirming two vocabularies are the same:\", train_vocab == train_vocab1\n",
    "\n",
    "# There ways to get the size of the vocabulary\n",
    "vocab = data.shape[1]\n",
    "vocab1 = len(train_vocab)\n",
    "vocab2 = len(train_vocab1)\n",
    "\n",
    "# Confirm that the there methods produce the same results\n",
    "print \"Confirming the three vocabulary sizes are the same:\", vocab == vocab1 == vocab2\n",
    "print \"\"\n",
    "\n",
    "# average number of non-zero features per example\n",
    "total_nnz = data.nnz\n",
    "ave_nnz = float(total_nnz) / float(data.shape[0])\n",
    "\n",
    "# fraction of non-zero matrix entries\n",
    "fraction_nnz = 100 * float(total_nnz) / float(data.shape[0] * data.shape[1])\n",
    "\n",
    "print \"Answers to the questions\"\n",
    "print \"The size of the vocabulary is:\", vocab\n",
    "print \"The average number of non-zero features per example is:\", round(ave_nnz,1)\n",
    "print \"The fraction of non-zero matrix entries is:\", str(round(fraction_nnz,1)) + \"%\"\n",
    "\n"
   ]
  },
  {
   "cell_type": "markdown",
   "metadata": {},
   "source": [
    "Observation: The matrix is very sparse, which is usually the case in this style of document analysis."
   ]
  },
  {
   "cell_type": "markdown",
   "metadata": {},
   "source": [
    "#### Part (b)"
   ]
  },
  {
   "cell_type": "code",
   "execution_count": 8,
   "metadata": {
    "collapsed": false
   },
   "outputs": [
    {
     "name": "stdout",
     "output_type": "stream",
     "text": [
      "Answers to the questions\n",
      "The first feature string in the vocabulary is: 00\n",
      "The last feature string in the vocabulary is: zyxel\n"
     ]
    }
   ],
   "source": [
    "# get first and last feature in alphabetic order\n",
    "print \"Answers to the questions\"\n",
    "print \"The first feature string in the vocabulary is:\", vec.get_feature_names()[0]\n",
    "print \"The last feature string in the vocabulary is:\", vec.get_feature_names()[-1]"
   ]
  },
  {
   "cell_type": "markdown",
   "metadata": {},
   "source": [
    "#### Part (c)"
   ]
  },
  {
   "cell_type": "code",
   "execution_count": 9,
   "metadata": {
    "collapsed": false
   },
   "outputs": [
    {
     "name": "stdout",
     "output_type": "stream",
     "text": [
      "Answers to the questions\n",
      "CountVectorizer output shape: (2034, 4)\n",
      "The size of the vocabulary is: 4\n",
      "The average number of non-zero features per example is: 0.3\n",
      "The fraction of non-zero matrix entries is: 6.7%\n"
     ]
    }
   ],
   "source": [
    "my_vocab = [\"atheism\", \"graphics\", \"space\", \"religion\"]\n",
    "vec = CountVectorizer(vocabulary=my_vocab)\n",
    "data = vec.fit_transform(train_data)\n",
    "\n",
    "# average number of non-zero features per example\n",
    "total_nnz = data.nnz\n",
    "ave_nnz = float(total_nnz) / float(data.shape[0])\n",
    "\n",
    "# fraction of non-zero matrix entries\n",
    "fraction_nnz = 100 * float(total_nnz) / float(data.shape[0] * data.shape[1])\n",
    "\n",
    "print \"Answers to the questions\"\n",
    "print \"CountVectorizer output shape:\", data.shape\n",
    "print \"The size of the vocabulary is:\", data.shape[1]\n",
    "print \"The average number of non-zero features per example is:\", round(ave_nnz,1)\n",
    "print \"The fraction of non-zero matrix entries is:\", str(round(fraction_nnz,1)) + \"%\"\n",
    "\n",
    "\n"
   ]
  },
  {
   "cell_type": "markdown",
   "metadata": {},
   "source": [
    "Observation: The number of features per example drops because it can now only be a maximum of 4 if the 4 words in the vocabulary were all to appear in each example. The fraction of non-zero matrix entries rises because the words must appear in a reasonable number of the examples compared to the broader average word frequency across all features for the full vocabulary. This is not surprising given the words in this vocabulary are the topic areas of all the examples. The more common the word the higher the number of non-zero entries. For example if we had a vocab of just ['the'] the non-zero entries would likely be much higher."
   ]
  },
  {
   "cell_type": "markdown",
   "metadata": {},
   "source": [
    "#### Part (d)"
   ]
  },
  {
   "cell_type": "code",
   "execution_count": 10,
   "metadata": {
    "collapsed": false
   },
   "outputs": [
    {
     "name": "stdout",
     "output_type": "stream",
     "text": [
      "Answers to the questions\n",
      "By including bi-grams the vocabulary increases from 26879 to 221770\n",
      "By including tri-grams the vocabulary further increases from 221770 to 537462\n"
     ]
    }
   ],
   "source": [
    "# Fit and transform to include bi-grams\n",
    "vec = CountVectorizer(analyzer='word',ngram_range=(1,2))\n",
    "data = vec.fit_transform(train_data)\n",
    "vocab_bi = data.shape[1]\n",
    "\n",
    "# Fit for transform to include tri-grams\n",
    "vec = CountVectorizer(analyzer='word',ngram_range=(1,3))\n",
    "data = vec.fit_transform(train_data)\n",
    "vocab_tri = data.shape[1]\n",
    "\n",
    "print \"Answers to the questions\"\n",
    "print \"By including bi-grams the vocabulary increases from\", vocab, \"to\", vocab_bi\n",
    "print \"By including tri-grams the vocabulary further increases from\", vocab_bi, \"to\", vocab_tri\n"
   ]
  },
  {
   "cell_type": "markdown",
   "metadata": {},
   "source": [
    "Observation: By adding bi-grams and tri-grams it quickly increases the feature set size, but may add value in picking up additional context."
   ]
  },
  {
   "cell_type": "markdown",
   "metadata": {},
   "source": [
    "#### Part (e)"
   ]
  },
  {
   "cell_type": "code",
   "execution_count": 11,
   "metadata": {
    "collapsed": false
   },
   "outputs": [
    {
     "name": "stdout",
     "output_type": "stream",
     "text": [
      "By only selecting features that appear in at least 10 examples the vocabulary significantly declines from 26879 to 3064.\n"
     ]
    }
   ],
   "source": [
    "# Fit allowing for features that appear in a minimum of 10 examples\n",
    "vec = CountVectorizer(min_df=10)\n",
    "data = vec.fit_transform(train_data)\n",
    "vocab_mindf10 = data.shape[1]\n",
    "print \"By only selecting features that appear in at least 10 examples the vocabulary significantly declines from\", vocab, \"to\", str(vocab_mindf10) + \".\""
   ]
  },
  {
   "cell_type": "markdown",
   "metadata": {},
   "source": [
    "#### Part (f)"
   ]
  },
  {
   "cell_type": "code",
   "execution_count": 12,
   "metadata": {
    "collapsed": false
   },
   "outputs": [
    {
     "name": "stdout",
     "output_type": "stream",
     "text": [
      "The fraction of features in the dev data set that are not in the training data set is: 24.8%\n"
     ]
    }
   ],
   "source": [
    "vec = CountVectorizer()\n",
    "data = vec.fit_transform(dev_data)\n",
    "dev_vocab = vec.get_feature_names()\n",
    "missing = sum([1 for feature in dev_vocab if feature not in train_vocab])\n",
    "fraction_missing = round(100 * float(missing) / len(dev_vocab),1)\n",
    "print \"The fraction of features in the dev data set that are not in the training data set is:\", str(fraction_missing)+\"%\"\n",
    "\n"
   ]
  },
  {
   "cell_type": "markdown",
   "metadata": {},
   "source": [
    "Observation: This highlights the difficulty of this approach in that when a word is not encountered in the training data set it makes predictions in held back data sets more difficult. Part (e) further highlights this difficulty showing for this set of document examples around 90% of features appear in 10 or less of the examples. As is usually the case the more examples you have the better it will likely work."
   ]
  },
  {
   "cell_type": "markdown",
   "metadata": {},
   "source": [
    "(3) Use the default CountVectorizer options and report the f1 score (use metrics.f1_score) for a k nearest neighbors classifier; find the optimal value for k. Also fit a Multinomial Naive Bayes model and find the optimal value for alpha. Finally, fit a logistic regression model and find the optimal value for the regularization strength C using l2 regularization. A few questions:\n",
    "\n",
    "a. Why doesn't nearest neighbors work well for this problem?\n",
    "\n",
    "b. Any ideas why logistic regression doesn't work as well as Naive Bayes?\n",
    "\n",
    "c. Logistic regression estimates a weight vector for each class, which you can access with the coef\\_ attribute. Output the sum of the squared weight values for each class for each setting of the C parameter. Briefly explain the relationship between the sum and the value of C."
   ]
  },
  {
   "cell_type": "code",
   "execution_count": 13,
   "metadata": {
    "collapsed": false
   },
   "outputs": [
    {
     "name": "stdout",
     "output_type": "stream",
     "text": [
      "Fitting 10 folds for each of 199 candidates, totalling 1990 fits\n"
     ]
    },
    {
     "name": "stderr",
     "output_type": "stream",
     "text": [
      "[Parallel(n_jobs=-1)]: Done  76 tasks      | elapsed:    1.7s\n",
      "[Parallel(n_jobs=-1)]: Done 376 tasks      | elapsed:    7.7s\n",
      "[Parallel(n_jobs=-1)]: Done 876 tasks      | elapsed:   18.1s\n",
      "[Parallel(n_jobs=-1)]: Done 1576 tasks      | elapsed:   33.1s\n",
      "[Parallel(n_jobs=-1)]: Done 1990 out of 1990 | elapsed:   42.2s finished\n"
     ]
    },
    {
     "data": {
      "image/png": "[encoded data removed]",
      "text/plain": [
       "<matplotlib.figure.Figure at 0x100735450>"
      ]
     },
     "metadata": {},
     "output_type": "display_data"
    },
    {
     "name": "stdout",
     "output_type": "stream",
     "text": [
      "Best score: 0.455\n",
      "Best parameters:\n",
      "clf1__n_neighbors 124\n",
      "K Nearest Neighbours F-score: 0.496\n"
     ]
    }
   ],
   "source": [
    "# Fit and transform the training data using the CountVectorizer\n",
    "vec = CountVectorizer()\n",
    "t_data = vec.fit_transform(train_data)\n",
    "# Set up k nearest neighbors pipeline\n",
    "pipeline = Pipeline([('clf1', KNeighborsClassifier())])\n",
    "# Set k to be in the range 1 to 200\n",
    "parameters = {'clf1__n_neighbors': range(1,200)}\n",
    "# Set GridSearchCV with cross validation of 10 and F1 scoring\n",
    "grid_search = GridSearchCV(pipeline, parameters,n_jobs=-1,cv=10,verbose=1,scoring='f1_weighted')\n",
    "# fit the GridSearch using the training features from the CountVectorizer\n",
    "grid_search.fit(t_data,train_labels)\n",
    "# Collect the mean score across the 10 cross validations \n",
    "scores = []\n",
    "k_values = []\n",
    "for item in grid_search.grid_scores_:\n",
    "    scores.append(item.mean_validation_score)\n",
    "    k_values.append(item.parameters['clf1__n_neighbors'])\n",
    "# plot the scores against the k values\n",
    "plt.plot(k_values,scores)\n",
    "plt.title(\"Accuracy vs Number of Nearest Neighbors\")\n",
    "plt.ylabel(\"Accuracy\")\n",
    "plt.xlabel(\"k values\")\n",
    "plt.show()\n",
    "# report the best parameters\n",
    "print \"Best score:\", round(grid_search.best_score_,3)\n",
    "print \"Best parameters:\"\n",
    "best_parameters = grid_search.best_estimator_.get_params()\n",
    "for parameter_name in sorted(parameters.keys()):\n",
    "    print parameter_name, best_parameters[parameter_name]\n",
    "# report the F1 score for the best parameters\n",
    "# predict() is performed using the best parameters from the grid_search\n",
    "preds = grid_search.predict(t_data)\n",
    "print \"K Nearest Neighbours F-score:\", round(metrics.f1_score(train_labels,preds,average='weighted'),3)   \n"
   ]
  },
  {
   "cell_type": "markdown",
   "metadata": {},
   "source": [
    "ANSWER: Part (a) k Nearest neighbours tends not to work well in this instance because of the sparsity of the data and data is not overly continuous, i.e. there are a lot of zeros, only a few non zero terms that typically take on a small range of integer values. These features will likely cause distance metrics to be quite similar (lots of zeros) and volatile (due to the influence that small discrete changes in feature frequency can have). Accordingly, the results are very corpus dependent which makes select of k difficult as highlighted by the volatility of the results in the chart above."
   ]
  },
  {
   "cell_type": "code",
   "execution_count": 14,
   "metadata": {
    "collapsed": false
   },
   "outputs": [
    {
     "name": "stdout",
     "output_type": "stream",
     "text": [
      "Fitting 10 folds for each of 10 candidates, totalling 100 fits\n"
     ]
    },
    {
     "name": "stderr",
     "output_type": "stream",
     "text": [
      "[Parallel(n_jobs=-1)]: Done 100 out of 100 | elapsed:    0.7s finished\n"
     ]
    },
    {
     "name": "stdout",
     "output_type": "stream",
     "text": [
      "mean: 0.82799, std: 0.02502, params: {'clf2__alpha': 1e-08}\n",
      "mean: 0.83821, std: 0.02716, params: {'clf2__alpha': 0.0001}\n",
      "mean: 0.83745, std: 0.02816, params: {'clf2__alpha': 0.001}\n",
      "mean: 0.83905, std: 0.02671, params: {'clf2__alpha': 0.01}\n",
      "mean: 0.83154, std: 0.02023, params: {'clf2__alpha': 0.1}\n",
      "mean: 0.80745, std: 0.02203, params: {'clf2__alpha': 1}\n",
      "mean: 0.79453, std: 0.02804, params: {'clf2__alpha': 2}\n",
      "mean: 0.77380, std: 0.03414, params: {'clf2__alpha': 4}\n",
      "mean: 0.72106, std: 0.04525, params: {'clf2__alpha': 8}\n",
      "mean: 0.66760, std: 0.04390, params: {'clf2__alpha': 16}\n"
     ]
    },
    {
     "data": {
      "image/png": "[encoded data removed]",
      "text/plain": [
       "<matplotlib.figure.Figure at 0x119370e50>"
      ]
     },
     "metadata": {},
     "output_type": "display_data"
    },
    {
     "name": "stdout",
     "output_type": "stream",
     "text": [
      "Best score: 0.839\n",
      "Best parameters:\n",
      "clf2__alpha 0.01\n",
      "MultinomialNB F-score: 0.961\n"
     ]
    }
   ],
   "source": [
    "# Fit and transform the training data using the CountVectorizer\n",
    "vec = CountVectorizer()\n",
    "t_data = vec.fit_transform(train_data)\n",
    "# Set up MultinomialNB classifier pipeline\n",
    "pipeline = Pipeline([('clf2', MultinomialNB())])\n",
    "parameters = {'clf2__alpha': (0.00000001, 0.0001, 0.001, 0.01, 0.1, 1, 2, 4, 8, 16)}\n",
    "# Set GridSearchCV with cross validation of 10 and F1 scoring\n",
    "grid_search = GridSearchCV(pipeline, parameters,n_jobs=-1,cv=10,verbose=1,scoring='f1_weighted')\n",
    "# Fit the GridSearch using the training features from the CountVectorizer\n",
    "grid_search.fit(t_data,train_labels)\n",
    "# Collect the mean score across the 10 cross validations \n",
    "scores = []\n",
    "alpha_values = []\n",
    "for item in grid_search.grid_scores_:\n",
    "    print item\n",
    "    item.mean_validation_score\n",
    "    scores.append(item.mean_validation_score)\n",
    "    alpha_values.append(item.parameters['clf2__alpha'])\n",
    "# plot the scores against the alpha values\n",
    "N = len(alpha_values)\n",
    "x2 = np.arange(N)\n",
    "plt.plot(x2,scores)\n",
    "plt.xticks(x2, alpha_values)\n",
    "plt.title(\"Accuracy vs Alpha\")\n",
    "plt.ylabel(\"Accuracy\")\n",
    "plt.xlabel(\"alpha values\")\n",
    "plt.show()\n",
    "# report the best parameters\n",
    "print \"Best score:\", round(grid_search.best_score_,3)\n",
    "print \"Best parameters:\"\n",
    "best_parameters = grid_search.best_estimator_.get_params()\n",
    "for parameter_name in sorted(parameters.keys()):\n",
    "    print parameter_name, best_parameters[parameter_name]\n",
    "# report the F1 score for the best parameters    \n",
    "# note predict() is performed using the best parameters\n",
    "preds = grid_search.predict(t_data)\n",
    "print \"MultinomialNB F-score:\", round(metrics.f1_score(train_labels,preds,average='weighted'),3)   \n"
   ]
  },
  {
   "cell_type": "code",
   "execution_count": 15,
   "metadata": {
    "collapsed": false
   },
   "outputs": [
    {
     "name": "stdout",
     "output_type": "stream",
     "text": [
      "Fitting 10 folds for each of 7 candidates, totalling 70 fits\n"
     ]
    },
    {
     "name": "stderr",
     "output_type": "stream",
     "text": [
      "/Applications/anaconda/lib/python2.7/site-packages/sklearn/metrics/classification.py:1113: UndefinedMetricWarning: F-score is ill-defined and being set to 0.0 in labels with no predicted samples.\n",
      "  'precision', 'predicted', average, warn_for)\n",
      "/Applications/anaconda/lib/python2.7/site-packages/sklearn/metrics/classification.py:1113: UndefinedMetricWarning: F-score is ill-defined and being set to 0.0 in labels with no predicted samples.\n",
      "  'precision', 'predicted', average, warn_for)\n",
      "/Applications/anaconda/lib/python2.7/site-packages/sklearn/metrics/classification.py:1113: UndefinedMetricWarning: F-score is ill-defined and being set to 0.0 in labels with no predicted samples.\n",
      "  'precision', 'predicted', average, warn_for)\n",
      "/Applications/anaconda/lib/python2.7/site-packages/sklearn/metrics/classification.py:1113: UndefinedMetricWarning: F-score is ill-defined and being set to 0.0 in labels with no predicted samples.\n",
      "  'precision', 'predicted', average, warn_for)\n",
      "[Parallel(n_jobs=-1)]: Done  42 tasks      | elapsed:   25.3s\n",
      "[Parallel(n_jobs=-1)]: Done  70 out of  70 | elapsed:  1.0min finished\n"
     ]
    },
    {
     "data": {
      "image/png": "[encoded data removed]",
      "text/plain": [
       "<matplotlib.figure.Figure at 0x1046dcbd0>"
      ]
     },
     "metadata": {},
     "output_type": "display_data"
    },
    {
     "name": "stdout",
     "output_type": "stream",
     "text": [
      "Best score: 0.781\n",
      "Best parameters:\n",
      "clf3__C 0.1\n",
      "Logistic Regression F-score: 0.955\n"
     ]
    }
   ],
   "source": [
    "# Fit and transform the training data using the CountVectorizer\n",
    "vec = CountVectorizer()\n",
    "t_data = vec.fit_transform(train_data)\n",
    "# Set up Logistic Regression pipeline\n",
    "pipeline = Pipeline([('clf3', LogisticRegression(multi_class='ovr',solver='newton-cg'))])\n",
    "# Set parameters for the GridSearchCV\n",
    "parameters = {'clf3__C': (1e-5, 1e-3, 1e-1, 1e0, 1e1, 1e3, 1e5)}\n",
    "# Set GridSearchCV with cross validation of 10 and F1 scoring\n",
    "grid_search = GridSearchCV(pipeline, parameters, n_jobs=-1, cv=10, verbose=1,scoring='f1_weighted')\n",
    "# Fit the GridSearch using the training features from the CountVectorizer\n",
    "grid_search.fit(t_data,train_labels)\n",
    "# Collect the mean score across the 10 cross validations \n",
    "scores = []\n",
    "Cs = []\n",
    "for item in grid_search.grid_scores_:\n",
    "    scores.append(item.mean_validation_score)\n",
    "    Cs.append(item.parameters['clf3__C'])\n",
    "# plot the scores against the C values\n",
    "N = len(Cs)\n",
    "x2 = np.arange(N)\n",
    "plt.plot(x2,scores)\n",
    "plt.xticks(x2,Cs)\n",
    "plt.title(\"Accuracy vs C\")\n",
    "plt.ylabel(\"Accuracy\")\n",
    "plt.xlabel(\"C\")\n",
    "plt.show()\n",
    "# report the best parameters\n",
    "print \"Best score:\", round(grid_search.best_score_,3)\n",
    "print \"Best parameters:\"\n",
    "best_parameters = grid_search.best_estimator_.get_params()\n",
    "for parameter_name in sorted(parameters.keys()):\n",
    "    print parameter_name, best_parameters[parameter_name]\n",
    "# report the F1 score for the best parameters   \n",
    "# note predict() is performed using the best parameters\n",
    "preds = grid_search.predict(t_data)\n",
    "print \"Logistic Regression F-score:\", round(metrics.f1_score(train_labels,preds,average='weighted'),3)   \n"
   ]
  },
  {
   "cell_type": "code",
   "execution_count": 16,
   "metadata": {
    "collapsed": false
   },
   "outputs": [
    {
     "name": "stdout",
     "output_type": "stream",
     "text": [
      " C values and sume of squared weights by class:\n",
      "C value: 1e-05 0.0 0.0 0.0 0.0\n",
      " C values and sume of squared weights by class:\n",
      "C value: 0.001 0.12 0.196 0.164 0.115\n",
      " C values and sume of squared weights by class:\n",
      "C value: 0.1 27.166 24.76 27.53 22.9\n",
      " C values and sume of squared weights by class:\n",
      "C value: 1.0 167.239 130.953 158.102 145.755\n",
      " C values and sume of squared weights by class:\n",
      "C value: 10.0 586.188 448.639 539.312 530.779\n",
      " C values and sume of squared weights by class:\n",
      "C value: 1000.0 2722.318 2124.759 2504.368 2588.226\n",
      " C values and sume of squared weights by class:\n",
      "C value: 100000.0 7001.996 5471.431 6363.307 6722.07\n"
     ]
    }
   ],
   "source": [
    "# Fit and transform the train_data using the CountVectorizer\n",
    "vec = CountVectorizer()\n",
    "t_data = vec.fit_transform(train_data)\n",
    "\n",
    "# Set C values for the Logistic Regression\n",
    "C_values = [1e-5, 1e-3, 1e-1, 1e0, 1e1, 1e3, 1e5]\n",
    "scores = []\n",
    "\n",
    "for i in range(len(C_values)):\n",
    "    sq_wgt_sums = [0] * 4\n",
    "    clf = LogisticRegression(C=C_values[i], multi_class='ovr', solver='newton-cg')\n",
    "    clf.fit(t_data, train_labels)\n",
    "    coefs = pd.DataFrame(clf.coef_)\n",
    "    for k in range(clf.coef_.shape[1]):\n",
    "        for j in range(clf.coef_.shape[0]):\n",
    "            sq_wgt_sums[j] += clf.coef_[j][k] ** 2\n",
    "    print \" C values and sume of squared weights by class:\"\n",
    "    print \"C value:\", C_values[i], round(sq_wgt_sums[0],3), round(sq_wgt_sums[1],3), round(sq_wgt_sums[2],3), round(sq_wgt_sums[3],3)\n"
   ]
  },
  {
   "cell_type": "markdown",
   "metadata": {},
   "source": [
    "ANSWER:\n",
    "\n",
    "Part (b) It is possibly that the direct application of feature probabilities works better in integer feature space for Multinomial Naive Bayes than for the logistic regression, also the logistic regression has to do a one versus rest approach with the multi-class problem, which possibly reduces its relative predictive ability. \n",
    "\n",
    "Part (c) As flagged in Q6 \"the idea of regularization is to avoid learning very large weights (which are likely to fit the training data, but not generalize well) by adding a penalty to the total size of the learned weights. That is, logistic regression seeks the set of weights that minimizes errors in the training data AND has a small size. The default regularization, L2, computes this size as the sum of the squared weights.  The result is that L2 regularization makes all the weights relatively small.\" Accordingly as we can see as the regularisation parameter comes down the aggregate of the sumof sqaured weights of each class comes down as expected."
   ]
  },
  {
   "cell_type": "markdown",
   "metadata": {},
   "source": [
    "(4) Train a logistic regression model. Find the 5 features with the largest weights for each label -- 20 features in total. Create a table with 20 rows and 4 columns that shows the weight for each of these features for each of the labels. Create the table again with bigram features. Any surprising features in this table?"
   ]
  },
  {
   "cell_type": "code",
   "execution_count": 17,
   "metadata": {
    "collapsed": false
   },
   "outputs": [
    {
     "name": "stdout",
     "output_type": "stream",
     "text": [
      "Single word feature analysis\n",
      "    Label     Feature      0      1      2      3\n",
      "0       0    religion  0.500 -0.294 -0.390  0.008\n",
      "1       0     atheism  0.494 -0.215 -0.196 -0.268\n",
      "2       0       bobby  0.483 -0.119 -0.166 -0.224\n",
      "3       0    atheists  0.468 -0.079 -0.158 -0.292\n",
      "4       0       islam  0.428 -0.088 -0.167 -0.163\n",
      "5       1    graphics -0.400  1.017 -0.644 -0.359\n",
      "6       1        file -0.167  0.651 -0.415 -0.277\n",
      "7       1       image -0.255  0.651 -0.363 -0.206\n",
      "8       1          3d -0.176  0.554 -0.307 -0.175\n",
      "9       1    computer -0.036  0.553 -0.332 -0.223\n",
      "10      2       space -0.642 -0.712  1.267 -0.576\n",
      "11      2       orbit -0.213 -0.335  0.603 -0.240\n",
      "12      2        nasa -0.271 -0.267  0.544 -0.246\n",
      "13      2      launch -0.206 -0.243  0.483 -0.165\n",
      "14      2        moon -0.200 -0.291  0.406 -0.052\n",
      "15      3   christian -0.260 -0.186 -0.191  0.548\n",
      "16      3  christians -0.324 -0.156 -0.196  0.511\n",
      "17      3       blood -0.210 -0.064 -0.097  0.433\n",
      "18      3       order -0.355 -0.037 -0.081  0.432\n",
      "19      3         fbi -0.124 -0.110 -0.221  0.428\n",
      "\n",
      "Bi-gram feature analysis\n",
      "    Label              Feature      0      1      2      3\n",
      "0       0           claim that  0.778 -0.255 -0.349 -0.196\n",
      "1       0             was just  0.687 -0.189 -0.193 -0.297\n",
      "2       0          cheers kent  0.667 -0.875 -0.813  0.619\n",
      "3       0              look up  0.644 -0.234 -0.190 -0.165\n",
      "4       0              you are  0.575 -0.314 -0.574  0.004\n",
      "5       1          looking for -0.745  1.328 -0.605 -0.690\n",
      "6       1        comp graphics -0.372  1.045 -0.465 -0.388\n",
      "7       1           in advance -0.538  0.978 -0.525 -0.500\n",
      "8       1             is there -0.420  0.920 -0.562 -0.332\n",
      "9       1            out there -0.320  0.899 -0.575 -0.329\n",
      "10      2            the space -0.311 -0.644  1.032 -0.322\n",
      "11      2             the moon -0.403 -0.576  0.952 -0.238\n",
      "12      2            sci space -0.313 -0.387  0.742 -0.271\n",
      "13      2             and such -0.240 -0.398  0.690 -0.255\n",
      "14      2  sherzer methodology -0.151 -0.221  0.684 -0.157\n",
      "15      3         ignorance is -0.222 -0.248 -0.206  0.757\n",
      "16      3          such lunacy -0.142 -0.211 -0.184  0.718\n",
      "17      3       compuserve com -0.125 -0.206 -0.195  0.712\n",
      "18      3          is strength -0.170 -0.220 -0.190  0.659\n",
      "19      3              the fbi -0.163 -0.259 -0.358  0.657\n",
      "\n"
     ]
    }
   ],
   "source": [
    "def get_largest_weights(vec, clf, num=5, print_table=True):\n",
    "    # collect indices of the top 5 weighted features in the classifier\n",
    "    inds = []\n",
    "    coefs = pd.DataFrame(clf.coef_)\n",
    "    for i in range(4):\n",
    "        for item in coefs.transpose().nlargest(num, i).index.values:\n",
    "            inds.append(item)\n",
    "    # collect feature, label and feature weights \n",
    "    features = []\n",
    "    for i in inds:\n",
    "        mfeature = []\n",
    "        mfeature.append(int(inds.index(i)/num))\n",
    "        mfeature.append(vec.get_feature_names()[i])\n",
    "        for j in range(4):\n",
    "            mfeature.append(round(clf.coef_.T[i][j],3))\n",
    "        features.append(mfeature)\n",
    "    final_table = pd.DataFrame(features, columns=['Label','Feature','0','1','2','3'])\n",
    "    if print_table: \n",
    "        print final_table    \n",
    "    return final_table\n",
    "    \n",
    "def P4(C=1,ng=1):\n",
    "    # Fit and transform a CountVectorizer\n",
    "    vec = CountVectorizer(ngram_range=(ng,ng))\n",
    "    t_data = vec.fit_transform(train_data)\n",
    "    # Define and fit a Logistic Regression\n",
    "    clf = LogisticRegression(C=C, solver='newton-cg')\n",
    "    clf.fit(t_data,train_labels)\n",
    "    # Get the largest weights\n",
    "    final_table = get_largest_weights(vec, clf)\n",
    "        \n",
    "print \"Single word feature analysis\" \n",
    "P4(0.1)\n",
    "print \"\"\n",
    "\n",
    "print \"Bi-gram feature analysis\" \n",
    "P4(ng=2)\n",
    "print \"\"\n"
   ]
  },
  {
   "cell_type": "markdown",
   "metadata": {},
   "source": [
    "ANSWER: The bi-grams feature analysis is a little surprising overall because many of the highly weighted bi-gram features are not obviously related to the topic of the class. For example, it is hard to relate 'out there' to 'comp.graphics' or 'compuserve com' to 'talk.religion.misc', on the face of it you may have expected the opposite relationship. In a similar vein the single word features that weight highly tend to be topic-related nouns, while the bi-grams are typically not topic-related nouns. The bi-gram analysis also appears to pick up some spurious relationships like 'cheers kent' for the 'alt.atheism' class. These results tend to suggests there may not be much value in adding bi-grams to the feature set, which is what I found."
   ]
  },
  {
   "cell_type": "markdown",
   "metadata": {},
   "source": [
    "(5) Try to improve the logistic regression classifier by passing a custom preprocessor to CountVectorizer. The preprocessing function runs on the raw text, before it is split into words by the tokenizer. Your preprocessor should try to normalize the input in various ways to improve generalization. For example, try lowercasing everything, replacing sequences of numbers with a single token, removing various other non-letter characters, and shortening long words. If you're not already familiar with regular expressions for manipulating strings, see https://docs.python.org/2/library/re.html, and re.sub() in particular. With your new preprocessor, how much did you reduce the size of the dictionary?\n",
    "\n",
    "For reference, I was able to improve dev F1 by 2 points."
   ]
  },
  {
   "cell_type": "code",
   "execution_count": 18,
   "metadata": {
    "collapsed": false
   },
   "outputs": [
    {
     "name": "stdout",
     "output_type": "stream",
     "text": [
      "Empty preprocessor:\n",
      "--------------------------------------------------\n",
      "\n",
      "There are definitely quite a few horrible deaths as the result of both\n",
      "atheists AND theists.  I'm sure Bobby can list quite a few for the atheist\n",
      "side but fails to recognize that the theists are equally proficient at\n",
      "genocide.  Perhaps, since I'm a bit weak on history, somone here would like\n",
      "to give a list of wars caused/led by theists?  I can think of a few (Hitler\n",
      "claimed to be a Christian for example) but a more complete list would\n",
      "probably be more effective in showing Bobby just how absurd his statement\n",
      "is.\n",
      "\n",
      "\n",
      "On a side note, I notice you always sign your posts \"Peace\".  Perhaps you\n",
      "should take your own advice and leave the atheists in peace with their\n",
      "beliefs?\n",
      "\n",
      "\n",
      "Nanci\n",
      "\n",
      "Better preprocessor:\n",
      "--------------------------------------------------\n",
      "there are definite quite few horrible death the result both atheist and theist sure bobby can list quite few for the atheist side but fail recogniz that the theist are equal proficie genocide perhap since bit weak history somone here would like give list war caus theist can think few hitler claim christia for example but more complete list would probab more effectiv show bobby just how absurd statemen side note notice you alway sign your post peace perhap you should take your own advice and leave the atheist peace with their belief nanci\n"
     ]
    }
   ],
   "source": [
    "# A variety of pre-processing functions\n",
    "\n",
    "punctuation = \"!\\\"#$%&'()*+,-./:;<=>?@[\\]^_`{|}~\"\n",
    "digits = \"0123456789\"\n",
    "\n",
    "def change_to_lowercase(my_str):\n",
    "    \"\"\"Convert my_str to lower case\"\"\"\n",
    "    my_str = my_str.lower()\n",
    "    return my_str\n",
    "\n",
    "def short_form_replace(my_str):\n",
    "    \"\"\"Convert apostrophes in known short-forms in my_str to long-forms\"\"\"\n",
    "    my_str = re.sub(r'let\\'s', \"let us\", my_str)\n",
    "    my_str = re.sub(r'won\\'t', \"will not\", my_str)\n",
    "    my_str = re.sub(r'can\\'t', \"cannot\", my_str)\n",
    "    my_str = re.sub(r'shan\\'t', \"shall not\", my_str)\n",
    "    my_str = re.sub(r'n\\'t', \" not\", my_str)\n",
    "    my_str = re.sub(r'\\'ve', \" have\", my_str)\n",
    "    my_str = re.sub(r'\\'re', \" are\", my_str)\n",
    "    my_str = re.sub(r'\\'m', \" am\", my_str)\n",
    "    my_str = re.sub(r'\\'ll', \" will\", my_str)\n",
    "    my_str = re.sub(r'\\'d', \" would\", my_str)     # note could also be did or had as well\n",
    "    my_str = re.sub(r'it\\'s', \"it is\", my_str)\n",
    "    my_str = re.sub(r'he\\'s', \"he is\", my_str)\n",
    "    my_str = re.sub(r'she\\'s', \"she is\", my_str)\n",
    "    my_str = re.sub(r'that\\'s', \"that is\", my_str)\n",
    "    my_str = re.sub(r'what\\'s', \"what is\", my_str)\n",
    "    my_str = re.sub(r'here\\'s', \"here is\", my_str)\n",
    "    my_str = re.sub(r'there\\'s', \"there is\", my_str)\n",
    "    my_str = re.sub(r'who\\'s', \"who is\", my_str)\n",
    "    return my_str\n",
    "\n",
    "def apostrophe_s_replace(my_str):\n",
    "    \"\"\"Remove 's at the end of words in my_str. Best to run this after short_form_replace()\"\"\"\n",
    "    my_str = re.sub(r\"([A-z])\\'s\", r\"\\1\", my_str)\n",
    "    return my_str\n",
    "\n",
    "def replace_apostrophes(my_str):\n",
    "    \"\"\"Tidy up my_str for all apostrophe-related issues.\"\"\"\n",
    "    my_str = short_form_replace(my_str)\n",
    "    my_str = apostrophe_s_replace(my_str)\n",
    "    return my_str\n",
    "\n",
    "def hyphen_replace(my_str):\n",
    "    \"\"\"Replace hyphens in hyphenated words with a space\"\"\"\n",
    "    my_str = re.sub(r\"([A-z])(\\-)([A-z])\", r\"\\1 \\3\", my_str)\n",
    "    my_str = re.sub(r\"([A-z])(\\-)(\\s)([A-z])\", r\"\\1 \\4\", my_str)\n",
    "    return my_str\n",
    "\n",
    "def forward_slash_replace(my_str):\n",
    "    \"\"\"Replace forward slashes in combined words with a space.\"\"\"\n",
    "    my_str = re.sub(r\"([A-z])(/)([A-z])\", r\"\\1 \\3\", my_str)\n",
    "    my_str = my_str.replace(')/', ' ')\n",
    "    my_str = my_str.replace('/(', ' ')\n",
    "    return my_str\n",
    "\n",
    "def remove_punctuation(my_str):\n",
    "    \"\"\"Remove all ASCII punctuation from my_str\"\"\"\n",
    "    my_str = short_form_replace(my_str)  # replace short forms with long forms before removing punctuation\n",
    "    my_str = ''.join(l for l in my_str if l not in punctuation)\n",
    "    my_str = ' '.join(my_str.split())     # this changes all white spaces to single spaces\n",
    "    return my_str\n",
    "\n",
    "def remove_suffixes(my_str):\n",
    "    \"\"\"Basic attempt to do some stemming of 's' endings and other common endings.\"\"\"\n",
    "    my_str = re.sub(r\"ssess \", r\"ss \", my_str)\n",
    "    my_str = re.sub(r\"ies \", r\"i \", my_str)\n",
    "    my_str = re.sub(r\"([^s])s \", r\"\\1 \", my_str)\n",
    "    my_str = re.sub(r\"ly \", r\" \", my_str)\n",
    "    my_str = re.sub(r\"ing \", r\" \", my_str)\n",
    "    my_str = re.sub(r\"ed \", r\" \", my_str)\n",
    "    my_str = re.sub(r\"ion \", r\" \", my_str)\n",
    "    return my_str\n",
    "\n",
    "def shorten_long_words(my_str, max_len=8):\n",
    "    \"\"\"Reduce words to a maximum length (default 8).\"\"\"\n",
    "    my_str = my_str.split(\" \")\n",
    "    my_str = ' '.join([word[:max_len] for word in my_str])\n",
    "    return my_str\n",
    "\n",
    "def remove_short_words(my_str, min_len=3):\n",
    "    \"\"\"Remove words of length less than minimum length (default 3).\"\"\"\n",
    "    my_str = my_str.split(\" \")\n",
    "    my_str = ' '.join([word for word in my_str if len(word)>=min_len])\n",
    "    return my_str\n",
    "\n",
    "def replace_digits(my_str):\n",
    "    \"\"\"Replace consecutive digits with a single #\"\"\"\n",
    "    my_str = re.sub(r\"([0-9])\", r\"#\", my_str)\n",
    "    my_str = re.sub(r'([#])\\1+', r'\\1', my_str)\n",
    "    return my_str\n",
    "\n",
    "def empty_preprocessor(my_str):\n",
    "    return my_str\n",
    "    \n",
    "def better_preprocessor(my_str):\n",
    "    \"\"\"Pre-process my_str for various string issues to prepare for feature extraction\"\"\"\n",
    "    my_str = change_to_lowercase(my_str)\n",
    "    my_str = replace_apostrophes(my_str)\n",
    "    my_str = hyphen_replace(my_str)\n",
    "    my_str = forward_slash_replace(my_str)\n",
    "    my_str = remove_punctuation(my_str)\n",
    "    my_str = remove_suffixes(my_str)\n",
    "    my_str = shorten_long_words(my_str)\n",
    "    my_str = remove_short_words(my_str)\n",
    "    my_str = replace_digits(my_str)\n",
    "    return my_str\n",
    "    \n",
    "def example(n=0):\n",
    "    test_string = train_data[n]\n",
    "    print \"Empty preprocessor:\"\n",
    "    print \"-\" * 50\n",
    "    print empty_preprocessor(test_string)\n",
    "    print \"\"\n",
    "    print \"Better preprocessor:\"\n",
    "    print \"-\" * 50\n",
    "    print better_preprocessor(test_string)\n",
    "\n",
    "# Show and example of the preprocessor at work\n",
    "example(5)"
   ]
  },
  {
   "cell_type": "code",
   "execution_count": 19,
   "metadata": {
    "collapsed": false
   },
   "outputs": [
    {
     "name": "stdout",
     "output_type": "stream",
     "text": [
      "The size of the vocabulary falls from 33291 to 18477 by using better_preprocessor().\n",
      "The F1 score on the dev data increases from 0.702 to 0.713 by using the better_preprocessor().\n"
     ]
    }
   ],
   "source": [
    "def P5():\n",
    "    \n",
    "    vec = CountVectorizer(preprocessor=empty_preprocessor)\n",
    "    t_data = vec.fit_transform(train_data)\n",
    "    d_data = vec.transform(dev_data)\n",
    "    vocab_empty_size = t_data.shape[1]\n",
    "    # Logistic Regression\n",
    "    clf = LogisticRegression(solver='newton-cg')\n",
    "    clf.fit(t_data, train_labels)\n",
    "    dev_preds = clf.predict(d_data)\n",
    "    empty_f1 = round(metrics.f1_score(dev_labels,dev_preds,average='weighted'),3) \n",
    "    \n",
    "    vec = CountVectorizer(preprocessor=better_preprocessor)\n",
    "    t_data = vec.fit_transform(train_data)\n",
    "    d_data = vec.transform(dev_data)\n",
    "    vocab_better_size = t_data.shape[1]\n",
    "    # Logistic Regression\n",
    "    clf = LogisticRegression(solver='newton-cg')\n",
    "    clf.fit(t_data, train_labels)\n",
    "    dev_preds = clf.predict(d_data)\n",
    "    better_f1 = round(metrics.f1_score(dev_labels,dev_preds,average='weighted'),3)   \n",
    "\n",
    "    print \"The size of the vocabulary falls from\", vocab_empty_size, \"to\", vocab_better_size, \"by using better_preprocessor().\"\n",
    "    print \"The F1 score on the dev data increases from\", empty_f1, \"to\", better_f1, \"by using the better_preprocessor().\" \n",
    "    \n",
    "P5()"
   ]
  },
  {
   "cell_type": "markdown",
   "metadata": {},
   "source": [
    "(6) The idea of regularization is to avoid learning very large weights (which are likely to fit the training data, but not generalize well) by adding a penalty to the total size of the learned weights. That is, logistic regression seeks the set of weights that minimizes errors in the training data AND has a small size. The default regularization, L2, computes this size as the sum of the squared weights (see P3, above). L1 regularization computes this size as the sum of the absolute values of the weights. The result is that whereas L2 regularization makes all the weights relatively small, L1 regularization drives lots of the weights to 0, effectively removing unimportant features.\n",
    "\n",
    "Train a logistic regression model using a \"l1\" penalty. Output the number of learned weights that are not equal to zero. How does this compare to the number of non-zero weights you get with \"l2\"? Now, reduce the size of the vocabulary by keeping only those features that have at least one non-zero weight and retrain a model using \"l2\".\n",
    "\n",
    "Make a plot showing accuracy of the re-trained model vs. the vocabulary size you get when pruning unused features by adjusting the C parameter.\n",
    "\n",
    "Note: The gradient descent code that trains the logistic regression model sometimes has trouble converging with extreme settings of the C parameter. Relax the convergence criteria by setting tol=.01 (the default is .0001)."
   ]
  },
  {
   "cell_type": "code",
   "execution_count": 20,
   "metadata": {
    "collapsed": false
   },
   "outputs": [
    {
     "name": "stdout",
     "output_type": "stream",
     "text": [
      "Base vocabulary (number of features): 26879 \n",
      "\n",
      "Non-zero weights with L1 regularization: 1609 out of 107516\n",
      "F1 score: 0.683 \n",
      "\n",
      "Non-zero weights with L2 regularization: 107516 out of 107516\n",
      "F1 score: 0.694 \n",
      "\n",
      "L1 based vocabulary (number of features): 958 \n",
      "\n",
      "C value: 1e-12\n",
      "Number of used features: 0\n",
      "Non-zero weights with L2 regularization: 3825 out of 3832\n",
      "F1 score: 0.201\n",
      "\n",
      "C value: 1e-11\n",
      "Number of used features: 10\n",
      "Non-zero weights with L2 regularization: 3827 out of 3832\n",
      "F1 score: 0.201\n",
      "\n",
      "C value: 1e-10\n",
      "Number of used features: 149\n",
      "Non-zero weights with L2 regularization: 3827 out of 3832\n",
      "F1 score: 0.201\n",
      "\n",
      "C value: 1e-09\n",
      "Number of used features: 755\n",
      "Non-zero weights with L2 regularization: 3825 out of 3832\n",
      "F1 score: 0.201\n",
      "\n",
      "C value: 1e-08\n",
      "Number of used features: 955\n",
      "Non-zero weights with L2 regularization: 3825 out of 3832\n",
      "F1 score: 0.2\n",
      "\n",
      "C value: 1e-06\n",
      "Number of used features: 958\n",
      "Non-zero weights with L2 regularization: 3832 out of 3832\n",
      "F1 score: 0.276\n",
      "\n",
      "C value: 0.0001\n",
      "Number of used features: 958\n",
      "Non-zero weights with L2 regularization: 3832 out of 3832\n",
      "F1 score: 0.526\n",
      "\n",
      "C value: 0.01\n",
      "Number of used features: 958\n",
      "Non-zero weights with L2 regularization: 3832 out of 3832\n",
      "F1 score: 0.639\n",
      "\n"
     ]
    },
    {
     "name": "stderr",
     "output_type": "stream",
     "text": [
      "/Applications/anaconda/lib/python2.7/site-packages/sklearn/metrics/classification.py:1113: UndefinedMetricWarning: F-score is ill-defined and being set to 0.0 in labels with no predicted samples.\n",
      "  'precision', 'predicted', average, warn_for)\n"
     ]
    },
    {
     "name": "stdout",
     "output_type": "stream",
     "text": [
      "C value: 1.0\n",
      "Number of used features: 958\n",
      "Non-zero weights with L2 regularization: 3832 out of 3832\n",
      "F1 score: 0.679\n",
      "\n",
      "C value: 100.0\n",
      "Number of used features: 958\n",
      "Non-zero weights with L2 regularization: 3832 out of 3832\n",
      "F1 score: 0.665\n",
      "\n"
     ]
    },
    {
     "data": {
      "image/png": "[encoded data removed]",
      "text/plain": [
       "<matplotlib.figure.Figure at 0x1046dc610>"
      ]
     },
     "metadata": {},
     "output_type": "display_data"
    },
    {
     "data": {
      "image/png": "[encoded data removed]",
      "text/plain": [
       "<matplotlib.figure.Figure at 0x119373790>"
      ]
     },
     "metadata": {},
     "output_type": "display_data"
    }
   ],
   "source": [
    "def get_non_zero_indices(df, tol=0.00000001):\n",
    "    filter0 = abs(df[0]) >= tol\n",
    "    filter1 = abs(df[1]) >= tol\n",
    "    filter2 = abs(df[2]) >= tol\n",
    "    filter3 = abs(df[3]) >= tol\n",
    "    indices = df[filter0 | filter1 | filter2 | filter3].index.values\n",
    "    return indices\n",
    "\n",
    "def P6():\n",
    "    # Keep this random seed here to make comparison easier.\n",
    "    np.random.seed(0)\n",
    "\n",
    "    # Fit and transform a CountVectorizer on the training data set and transform the dev data set\n",
    "    vec = CountVectorizer()\n",
    "    t_data = vec.fit_transform(train_data)\n",
    "    d_data = vec.transform(dev_data)\n",
    "    print \"Base vocabulary (number of features):\", t_data.shape[1], \"\\n\"\n",
    "\n",
    "    # Define and fit a Logistic Regression with L1 regularization\n",
    "    clf = LogisticRegression(penalty='l1')\n",
    "    clf.fit(t_data, train_labels)\n",
    "    dev_preds = clf.predict(d_data)\n",
    "    l1_f1 = round(metrics.f1_score(dev_labels,dev_preds,average='weighted'),3) \n",
    "    coefs = pd.DataFrame(clf.coef_).transpose()\n",
    "    l1_indices = get_non_zero_indices(coefs)\n",
    "    print \"Non-zero weights with L1 regularization:\", coefs.astype(bool).sum(axis=0).sum(), \"out of\", t_data.shape[1]*coefs.shape[1]\n",
    "    print \"F1 score:\", l1_f1, \"\\n\"\n",
    "\n",
    "    l1_vocab = [list(vec.get_feature_names())[index] for index in l1_indices]\n",
    "\n",
    "    # Logistic Regression with L2 regularization\n",
    "    clf = LogisticRegression(penalty='l2')\n",
    "    clf.fit(t_data, train_labels)\n",
    "    dev_preds = clf.predict(d_data)\n",
    "    l2_f1 = round(metrics.f1_score(dev_labels,dev_preds,average='weighted'),3) \n",
    "    coefs = pd.DataFrame(clf.coef_).transpose()\n",
    "    print \"Non-zero weights with L2 regularization:\", coefs.astype(bool).sum(axis=0).sum(), \"out of\", t_data.shape[1]*coefs.shape[1]\n",
    "    print \"F1 score:\", l2_f1, \"\\n\"\n",
    "\n",
    "    # Fit and transform a CountVectorizer on the training data set and transform the dev data set\n",
    "    # with vocabulary from the L1 based model\n",
    "    vec = CountVectorizer(vocabulary=l1_vocab)\n",
    "    t_data = vec.fit_transform(train_data)\n",
    "    d_data = vec.transform(dev_data)\n",
    "    print \"L1 based vocabulary (number of features):\", t_data.shape[1], \"\\n\"\n",
    "\n",
    "    # Re-train the Logistic Regression using L2 regularization and the L1 vocabulary\n",
    "    C = [1e-12, 1e-11, 1e-10, 1e-9, 1e-8, 1e-6, 1e-4, 1e-2, 1e-0, 1e2]\n",
    "    accuracy = []\n",
    "    features_used = []\n",
    "    for i in C:\n",
    "        clf = LogisticRegression(C=i, penalty='l2', tol=0.01)\n",
    "        clf.fit(t_data, train_labels)\n",
    "        dev_preds = clf.predict(d_data)\n",
    "        f1 = round(metrics.f1_score(dev_labels,dev_preds,average='weighted'),3) \n",
    "        coefs = pd.DataFrame(clf.coef_).transpose()\n",
    "        features_used_indices = get_non_zero_indices(coefs)\n",
    "        print \"C value:\", i\n",
    "        print \"Number of used features:\", len(features_used_indices)\n",
    "        print \"Non-zero weights with L2 regularization:\", coefs.astype(bool).sum(axis=0).sum(), \"out of\", t_data.shape[1]*coefs.shape[1]\n",
    "        print \"F1 score:\", f1\n",
    "        print \"\"\n",
    "\n",
    "        accuracy.append(f1)\n",
    "        features_used.append(len(features_used_indices))\n",
    "\n",
    "    N = len(C)\n",
    "    x2 = np.arange(N)\n",
    "    plt.plot(x2,accuracy)\n",
    "    plt.xticks(x2,C)\n",
    "    plt.title(\"Accuracy vs C\")\n",
    "    plt.ylabel(\"Accuracy\")\n",
    "    plt.xlabel(\"C\")\n",
    "    plt.show()\n",
    "\n",
    "    plt.plot(x2,features_used)\n",
    "    plt.xticks(x2,C)\n",
    "    plt.title(\"Features used vs C\")\n",
    "    plt.ylabel(\"Features used\")\n",
    "    plt.xlabel(\"C\")\n",
    "    plt.show()\n",
    "\n",
    "P6()"
   ]
  },
  {
   "cell_type": "markdown",
   "metadata": {},
   "source": [
    "(7) Use the TfidfVectorizer -- how is this different from the CountVectorizer? Train a logistic regression model with C=100.\n",
    "\n",
    "Make predictions on the dev data and show the top 3 documents where the ratio R is largest, where R is:\n",
    "\n",
    "maximum predicted probability / predicted probability of the correct label\n",
    "\n",
    "What kinds of mistakes is the model making? Suggest a way to address one particular issue that you see."
   ]
  },
  {
   "cell_type": "markdown",
   "metadata": {},
   "source": [
    "ANSWER: The CountVectorizer simply counts the frequency of each feature in each example in the corpus across all features from the corpus, so common features such as the word 'the' will likely have high freqencies across many of the examples in the corpus. As such the word 'the' is potentially not a great differentiator or predictor of each example. The TfidfVectorizer attempts to take account of this possible shortcoming of the CountVectorizer by first running the CountVectorizer and then normalizing the example frequencies by the inverse of the corpus frequency to effectively de-weight the importance of features that are common across the corpus. "
   ]
  },
  {
   "cell_type": "code",
   "execution_count": 21,
   "metadata": {
    "collapsed": false
   },
   "outputs": [
    {
     "name": "stdout",
     "output_type": "stream",
     "text": [
      "Dev data F1 score: 0.76\n",
      "\n",
      "Dev data classification report:\n",
      "             precision    recall  f1-score   support\n",
      "\n",
      "          0       0.69      0.62      0.65       165\n",
      "          1       0.80      0.91      0.85       185\n",
      "          2       0.83      0.83      0.83       199\n",
      "          3       0.68      0.64      0.66       127\n",
      "\n",
      "avg / total       0.76      0.76      0.76       676\n",
      "\n",
      "\n",
      "Top 3 documents where R is the largest:\n",
      "            0         1         2         3       max  correct_label  \\\n",
      "215  0.001967  0.993714  0.003248  0.001070  0.993714              3   \n",
      "665  0.002910  0.979735  0.014331  0.003024  0.979735              3   \n",
      "607  0.002423  0.020048  0.281894  0.695635  0.695635              0   \n",
      "\n",
      "     prob_correct           R  \n",
      "215      0.001070  928.809741  \n",
      "665      0.003024  324.029014  \n",
      "607      0.002423  287.124558  \n",
      "\n",
      "====================================================================================================\n",
      "Example: 215\n",
      "----------------------------------------------------------------------------------------------------\n",
      "Text:\n",
      "I am pleased to announce that a *revised version* of _The Easy-to-Read Book\n",
      "of Mormon_ (former title: _Mormon's Book_) by Lynn Matthews Anderson is now\n",
      "available through anonymous ftp (see information below). In addition to the\n",
      "change in title, the revised ETR BOM has been shortened by several pages\n",
      "(eliminating many extraneous \"that's\" and \"of's\"), and many (minor) errors\n",
      "have been corrected. This release includes a simplified Joseph Smith Story,\n",
      "testimonies of the three and eight witnesses, and a \"Words-to-Know\"\n",
      "glossary.\n",
      "\n",
      "As with the previous announcement, readers are reminded that this is a\n",
      "not-for-profit endeavor. This is a copyrighted work, but people are welcome\n",
      "to make *verbatim* copies for personal use. People can recuperate the\n",
      "actual costs of printing (paper, copy center charges), but may not charge\n",
      "anything for their time in making copies, or in any way realize a profit\n",
      "from the use of this book. See the permissions notice in the book itself\n",
      "for the precise terms.\n",
      "\n",
      "Negotiations are currently underway with a Mormon publisher vis-a-vis the\n",
      "printing and distribution of bound books. (Sorry, I'm out of the wire-bound\n",
      "\"first editions.\") I will make another announcement about the availability\n",
      "of printed copies once everything has been worked out.\n",
      "\n",
      "FTP information: connect via anonymous ftp to carnot.itc.cmu.edu, then \"cd\n",
      "pub\" (you won't see anything at all until you do).\n",
      "\n",
      "\"The Easy-to-Read Book of Mormon\" is currently available in postscript and\n",
      "RTF (rich text format). (ASCII, LaTeX, and other versions can be made\n",
      "available; contact dba@andrew.cmu.edu for details.) You should be able to\n",
      "print the postscript file on any postscript printer (such as an Apple\n",
      "Laserwriter); let dba know if you have any difficulties. (The postscript in\n",
      "the last release had problems on some printers; this time it should work\n",
      "better.) RTF is a standard document interchange format that can be read in\n",
      "by a number of word processors, including Microsoft Word for both the\n",
      "Macintosh and Windows. If you don't have a postscript printer, you may be\n",
      "able to use the RTF file to print out a copy of the book.\n",
      "\n",
      "-r--r--r--  1 dba                   1984742 Apr 27 13:12 etrbom.ps\n",
      "-r--r--r--  1 dba                   1209071 Apr 27 13:13 etrbom.rtf\n",
      "\n",
      "For more information about how this project came about, please refer to my\n",
      "article in the current issue of _Sunstone_, entitled \"Delighting in\n",
      "Plainness: Issues Surrounding a Simple Modern English Book of Mormon.\"\n",
      "\n",
      "Send all inquiries and comments to:\n",
      "\n",
      "    Lynn Matthews Anderson\n",
      "    5806 Hampton Street\n",
      "    Pittsburgh, PA 15206\n",
      "----------------------------------------------------------------------------------------------------\n",
      "Predicted:  1 comp.graphics\n",
      "True Label:  3 talk.religion.misc\n",
      "====================================================================================================\n",
      "====================================================================================================\n",
      "Example: 665\n",
      "----------------------------------------------------------------------------------------------------\n",
      "Text:\n",
      "Can anyone provide me a ftp site where I can obtain a online version\n",
      "of the Book of Mormon. Please email the internet address if possible.\n",
      "----------------------------------------------------------------------------------------------------\n",
      "Predicted:  1 comp.graphics\n",
      "True Label:  3 talk.religion.misc\n",
      "====================================================================================================\n",
      "====================================================================================================\n",
      "Example: 607\n",
      "----------------------------------------------------------------------------------------------------\n",
      "Text:\n",
      "\n",
      "The 24 children were, of course, killed by a lone gunman in a second story\n",
      "window, who fired eight bullets in the space of two seconds...\n",
      "\n",
      "----------------------------------------------------------------------------------------------------\n",
      "Predicted:  3 talk.religion.misc\n",
      "True Label:  0 alt.atheism\n",
      "====================================================================================================\n"
     ]
    }
   ],
   "source": [
    "def find_high_R(clf, data, labels, num=3):\n",
    "    # Calculate probabilities for each label for each example \n",
    "    d_probs = clf.predict_proba(data)\n",
    "    # Create a dataframe and input max label probability, correct label probability and the ratio\n",
    "    probs = pd.DataFrame(d_probs, columns=['0','1','2','3'])\n",
    "    probs['max'] = probs[['0','1','2','3']].max(axis=1)\n",
    "    probs['correct_label'] = labels\n",
    "    prob_correct = []\n",
    "    for i in range(len(d_probs)):\n",
    "        prob_correct.append(d_probs[i][labels[i]])\n",
    "    prob_correct = pd.DataFrame(prob_correct, columns=['prob_correct'])\n",
    "    probs['prob_correct'] = prob_correct\n",
    "    probs['R'] = probs['max'] / probs['prob_correct']\n",
    "    # Sort dev data predictions by R descending to get top 3 mistakes\n",
    "    print probs.sort_values(by='R', ascending=False).head(num)\n",
    "    ind_values = probs.sort_values(by='R', ascending=False).head(num).index.values\n",
    "    return ind_values\n",
    "\n",
    "def P7():\n",
    "    # Fit and transform the train_data using the TfidfVectorizer\n",
    "    vec = TfidfVectorizer()\n",
    "    t_data = vec.fit_transform(train_data)\n",
    "    # transform the dev_data using the fitted train_data vec\n",
    "    d_data = vec.transform(dev_data)\n",
    "    # Define and fit Logistic Regression classifier using the t_data\n",
    "    clf = LogisticRegression(C=100, solver='newton-cg')\n",
    "    clf.fit(t_data,train_labels)\n",
    "    # Make predictions using the fitted model on the dev_data\n",
    "    preds = clf.predict(d_data)\n",
    "    print \"Dev data F1 score:\", round(metrics.f1_score(dev_labels,preds,average='weighted'),3) \n",
    "    print \"\"\n",
    "    print \"Dev data classification report:\"\n",
    "    print classification_report(dev_labels,preds)\n",
    "    print \"\"\n",
    "    print \"Top 3 documents where R is the largest:\"\n",
    "    ind_values = find_high_R(clf, d_data, dev_labels)\n",
    "    print \"\"\n",
    "    for i in ind_values:\n",
    "        print \"=\"*100\n",
    "        print \"Example:\", i\n",
    "        print \"-\"*100\n",
    "        print \"Text:\"\n",
    "        print dev_data[i]\n",
    "        print \"-\"*100\n",
    "        print \"Predicted: \", preds[i], newsgroups_train.target_names[preds[i]]\n",
    "        print \"True Label: \", dev_labels[i], newsgroups_train.target_names[dev_labels[i]]\n",
    "        print \"=\"*100\n",
    " \n",
    "P7()"
   ]
  },
  {
   "cell_type": "markdown",
   "metadata": {},
   "source": [
    "ANSWER: The main mistake that the model is making in the first two examples is that it is picking up on important words from other classes that are used in common language. For example words relating to computers can also be used in advertising to highlight how you can purchase the advertised product. This might result in more words important to other classes appearing in another class and dominating classifier. The model is using the multi_class= setting of 'ovr', so one class versus the rest, but maybe there is a way to alter the weights to give more weight within a class to its more highly weighted words. Alternatively you can look to exclude words that may lead to confusion using the stop_words attribute. The Tfidf Vectorizer can also have difficulty if there is a small number of words in the example leading to volatile results, which may be the problem in the third example."
   ]
  },
  {
   "cell_type": "markdown",
   "metadata": {},
   "source": [
    "(8) EXTRA CREDIT\n",
    "\n",
    "Try implementing one of your ideas based on your error analysis. Use logistic regression as your underlying model."
   ]
  },
  {
   "cell_type": "markdown",
   "metadata": {},
   "source": [
    "ANSWER: The main idea I try to implement is the notion of removing common language across classes. Firstly I fit a default model using the same parameters as Question 7 as a basis of reference."
   ]
  },
  {
   "cell_type": "code",
   "execution_count": 22,
   "metadata": {
    "collapsed": false
   },
   "outputs": [
    {
     "name": "stdout",
     "output_type": "stream",
     "text": [
      "Default result for comparison:\n",
      "Default F1 score: 0.76\n"
     ]
    }
   ],
   "source": [
    "# Establish a default result\n",
    "# Fit and transform the train_data using a TfidVectorizerVectorizer from Q7\n",
    "vec = TfidfVectorizer()\n",
    "t_data = vec.fit_transform(train_data)\n",
    "d_data = vec.transform(dev_data)\n",
    "# Fit a Logistic Regression with C=100, solver='newton-cg'\n",
    "clf = LogisticRegression(C=100, solver='newton-cg')\n",
    "# Fit the classifier using the fitted and transformed train_data\n",
    "clf.fit(t_data,train_labels)\n",
    "# make predictions on the dev_data\n",
    "d_preds = clf.predict(d_data)\n",
    "default_result = round(metrics.f1_score(dev_labels,d_preds,average='weighted'),3) \n",
    "print \"Default result for comparison:\"\n",
    "print \"Default F1 score:\", default_result"
   ]
  },
  {
   "cell_type": "markdown",
   "metadata": {},
   "source": [
    "Next I focus on model parameters that reduce the feature set with emphasis on words that may be specific to a class, but also common language in others, which may cause confusion with predictions. To do so I have a look for features that have a high weight for one class and a low weight for another class to create a list of possible words to exclude."
   ]
  },
  {
   "cell_type": "code",
   "execution_count": 23,
   "metadata": {
    "collapsed": false
   },
   "outputs": [
    {
     "name": "stdout",
     "output_type": "stream",
     "text": [
      "Extra stop words 1:\n",
      "[u'atheists', u'bobby', u'islam', u'atheist', u'motto', u'nanci', u'enviroleague', u'matthew', u'loans', u'satan', u'posting', u'post', u'natural', u'must', u'computer', u'42', u'sgi', u'3do', u'using', u'animation', u'card', u'video', u'sphere', u'mars', u'nick', u'allen', u'earth', u'get', u'down', u'funding', u'blood', u'order', u'christ', u'hudson', u'koresh', u'children', u'abortion', u'terrorist', u'rosicrucian', u'ekr', u'amorc', u'dead', u'convenient']\n"
     ]
    }
   ],
   "source": [
    "# Establish a default result\n",
    "# Fit and transform the train_data using a CountVectorizer\n",
    "hurdle = 2\n",
    "vec = TfidfVectorizer()\n",
    "t_data = vec.fit_transform(train_data)\n",
    "d_data = vec.transform(dev_data)\n",
    "vocab = list(vec.get_feature_names())\n",
    "# Fit a Logistic Regression with C=100, solver='newton-cg'\n",
    "clf = LogisticRegression(C=100, solver='newton-cg')\n",
    "# Fit the classifier using the fitted and transformed train_data\n",
    "clf.fit(t_data,train_labels)\n",
    "# make predictions on the dev_data\n",
    "d_preds = clf.predict(d_data)\n",
    "#final = get_largest_weights(vec, clf, 20)\n",
    "large_weights = get_largest_weights(vec, clf, 20, False)\n",
    "df = large_weights\n",
    "filter0 = abs(df['0']) < hurdle\n",
    "filter1 = abs(df['1']) < hurdle\n",
    "filter2 = abs(df['1']) < hurdle\n",
    "filter3 = abs(df['1']) < hurdle\n",
    "extra_stop_words1 = list(df[filter0 | filter1 | filter2 | filter3].Feature.values)\n",
    "print \"Extra stop words 1:\"\n",
    "print extra_stop_words1\n",
    "\n"
   ]
  },
  {
   "cell_type": "markdown",
   "metadata": {},
   "source": [
    "As another way I identify all the erroneous predictions and fit a model on those examples to identify as above the highly weighted words that have low weights on other classes."
   ]
  },
  {
   "cell_type": "code",
   "execution_count": 24,
   "metadata": {
    "collapsed": false
   },
   "outputs": [
    {
     "name": "stdout",
     "output_type": "stream",
     "text": [
      "Extra stop words 2:\n",
      "[u'quran', u'war', u'society', u'argument', u'too', u'muslim', u'image', u'graphics', u'daemon', u'scodal', u'graeme', u'pens', u'buggy', u'generated', u'sphinx', u'software', u'fractal', u'fonts', u'povray', u'minutes', u'colours', u'moon', u'antenna', u'nasa', u'chuck', u'flights', u'yeager', u'technology', u'station', u'piper', u'_______________________________________________________________________________', u'curiousity', u'worden', u'check', u'idea', u'flight', u'id', u'rockets', u'lord', u'christ', u'jesus', u'someone', u'definition', u'asked', u'when', u'brian', u'amorc', u'your', u'details', u'lds', u'brought', u'appreciate', u'context']\n"
     ]
    }
   ],
   "source": [
    "# Establish a default result\n",
    "# Fit and transform the train_data using a CountVectorizer\n",
    "vec = TfidfVectorizer()\n",
    "t_data = vec.fit_transform(train_data)\n",
    "d_data = vec.transform(dev_data)\n",
    "vocab = list(vec.get_feature_names())\n",
    "# Fit a Logistic Regression with C=100, solver='newton-cg'\n",
    "clf = LogisticRegression(C=100, solver='newton-cg')\n",
    "# Fit the classifier using the fitted and transformed train_data\n",
    "clf.fit(t_data,train_labels)\n",
    "# make predictions on the dev_data\n",
    "d_preds = clf.predict(d_data)\n",
    "\n",
    "# Calculate probabilities for each label for each example \n",
    "d_probs = clf.predict_proba(d_data)\n",
    "# Create a dataframe and input max label probability, correct label probability and the ratio\n",
    "probs = pd.DataFrame(d_probs, columns=['0','1','2','3'])\n",
    "probs['max'] = probs[['0','1','2','3']].max(axis=1)\n",
    "probs['correct_label'] = dev_labels\n",
    "prob_correct = []\n",
    "for i in range(len(d_probs)):\n",
    "    prob_correct.append(d_probs[i][dev_labels[i]])\n",
    "prob_correct = pd.DataFrame(prob_correct, columns=['prob_correct'])\n",
    "probs['prob_correct'] = prob_correct\n",
    "probs['R'] = probs['max'] / probs['prob_correct']\n",
    "probs\n",
    "ind_list = [0]*4\n",
    "for i in range(4):\n",
    "    filter = (probs['R'] > 2) & (probs['correct_label']==i)\n",
    "    ind_list[i] = list(probs[filter].index.values)\n",
    "\n",
    "bad_examples = [train_data[int(item)] for i in range(4) for item in ind_list[i]] \n",
    "bad_labels = [train_labels[int(item)] for i in range(4) for item in ind_list[i]] \n",
    "bad_vec = TfidfVectorizer()\n",
    "bad_t_data = bad_vec.fit_transform(bad_examples)\n",
    "vocab = list(bad_vec.get_feature_names())\n",
    "bad_t_data.shape\n",
    "bad_clf = LogisticRegression(C=100, solver='newton-cg')\n",
    "# Fit the classifier using the fitted and transformed train_data\n",
    "bad_clf.fit(bad_t_data,bad_labels)\n",
    "table = get_largest_weights(bad_vec, bad_clf, 20, False)\n",
    "hurdle = 1\n",
    "df = table\n",
    "filter0 = abs(df['0']) < hurdle\n",
    "filter1 = abs(df['1']) < hurdle\n",
    "filter2 = abs(df['1']) < hurdle\n",
    "filter3 = abs(df['1']) < hurdle\n",
    "extra_stop_words2 = list(df[filter0 | filter1 | filter2 | filter3].Feature.values)\n",
    "\n",
    "print \"Extra stop words 2:\"\n",
    "print extra_stop_words2\n",
    "\n"
   ]
  },
  {
   "cell_type": "code",
   "execution_count": 25,
   "metadata": {
    "collapsed": true
   },
   "outputs": [],
   "source": [
    "# set up my own extra stop words basd on direct observation as an example\n",
    "extra_stop_words3 = ['email','online','web','website','internet','address', 'com', 'site']\n"
   ]
  },
  {
   "cell_type": "markdown",
   "metadata": {},
   "source": [
    "In the version below I exclude the above groups of words from the vocabulary plus the inbuilt set of common words in the stop words vocabulary."
   ]
  },
  {
   "cell_type": "code",
   "execution_count": 26,
   "metadata": {
    "collapsed": false
   },
   "outputs": [
    {
     "name": "stdout",
     "output_type": "stream",
     "text": [
      "Stop word adjusted number of features: 26536\n",
      "Tfidf Extra Words 1 F1 score: 0.757\n",
      "\n",
      "Stop word adjusted number of features: 26527\n",
      "Tfidf Extra Words 2 F1 score: 0.769\n",
      "\n",
      "Stop word adjusted number of features: 26576\n",
      "Tfidf Stop Words Only F1 score: 0.777\n",
      "\n",
      "Stop word adjusted number of features: 26570\n",
      "Tfidf Extra Words 3 F1 score: 0.778\n",
      "\n"
     ]
    }
   ],
   "source": [
    "def P8():\n",
    "    \n",
    "    extra = [extra_stop_words1, extra_stop_words2, [], extra_stop_words3]\n",
    "    extra1 =['Extra Words 1', 'Extra Words 2', 'Stop Words Only', 'Extra Words 3']\n",
    "    extras = zip(extra,extra1)\n",
    "    for i,j in extras:\n",
    "        my_stop_words = ENGLISH_STOP_WORDS.union(i)\n",
    "        # Fit and transform the train_data using the TfidfVectorizer with different stop_words\n",
    "#        vec = TfidfVectorizer(preprocessor=better_preprocessor,stop_words=my_stop_words)\n",
    "        vec = TfidfVectorizer(stop_words=my_stop_words)\n",
    "        t_data = vec.fit_transform(train_data)\n",
    "        d_data = vec.transform(dev_data)\n",
    "        print \"Stop word adjusted number of features:\", t_data.shape[1]\n",
    "        # Set up and fit the Logistic Regression\n",
    "        clf = LogisticRegression(C=100, solver='newton-cg') \n",
    "        clf.fit(t_data,train_labels)\n",
    "        d_preds1 = clf.predict(d_data)\n",
    "        d_preds1.shape\n",
    "        print \"Tfidf\", j, \"F1 score:\", round(metrics.f1_score(dev_labels,d_preds1,average='weighted'),3)   \n",
    "        print \"\"\n",
    "        \n",
    "P8()"
   ]
  },
  {
   "cell_type": "markdown",
   "metadata": {
    "collapsed": true
   },
   "source": [
    "ANSWER: My methods of identifying words that may be causing prediction difficulties were not overly successful. However, by simply removing stop words the F1 score goes up from the default level of 0.76 to 0.777, which supports the merit of the idea. By further adding the observed words possibly causing the problem identified in part Q7, i.e. 'extra words 3', I was able to squeeze out .1% more F1 score to 0.778 from just 6 further words, which again supports the merit of the idea."
   ]
  }
 ],
 "metadata": {
  "anaconda-cloud": {},
  "kernelspec": {
   "display_name": "Python [conda root]",
   "language": "python",
   "name": "conda-root-py"
  },
  "language_info": {
   "codemirror_mode": {
    "name": "ipython",
    "version": 2
   },
   "file_extension": ".py",
   "mimetype": "text/x-python",
   "name": "python",
   "nbconvert_exporter": "python",
   "pygments_lexer": "ipython2",
   "version": "2.7.12"
  }
 },
 "nbformat": 4,
 "nbformat_minor": 0
}
